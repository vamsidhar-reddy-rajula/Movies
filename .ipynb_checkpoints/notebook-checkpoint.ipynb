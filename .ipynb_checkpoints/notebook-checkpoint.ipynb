{
 "cells": [
  {
   "cell_type": "code",
   "execution_count": 1,
   "id": "03bd91d7-1925-4540-9466-7b272dc36dd0",
   "metadata": {},
   "outputs": [],
   "source": [
    "import requests\n",
    "import configs\n",
    "from IPython.display import JSON"
   ]
  },
  {
   "cell_type": "code",
   "execution_count": 18,
   "id": "93da6973-2924-4ae8-9600-913178b9f173",
   "metadata": {},
   "outputs": [],
   "source": [
    "base = \"https://api.themoviedb.org/3\"\n",
    "movie_search_endpoint = \"/search/movie\"\n",
    "person_search_endpoint = \"/search/person\"\n",
    "tv_search_endpoint = \"/search/tv\"\n",
    "api_key = configs.API[\"key\"]"
   ]
  },
  {
   "cell_type": "code",
   "execution_count": 10,
   "id": "72e7e42a-f5bb-44e9-8a4f-8baddaa5f61e",
   "metadata": {},
   "outputs": [],
   "source": [
    "params={\"api_key\":api_key}\n",
    "def get_json(endpoint,*query,params=params):\n",
    "    res = requests.get(base+endpoint,params)\n",
    "    return res.json()"
   ]
  },
  {
   "cell_type": "code",
   "execution_count": 11,
   "id": "1a68f991-fbc6-495b-a7b4-dc120087ca32",
   "metadata": {},
   "outputs": [
    {
     "data": {
      "application/json": {
       "page": 1,
       "results": [
        {
         "adult": false,
         "backdrop_path": "/6VmFqApQRyZZzmiGOQq2C92jyvH.jpg",
         "genre_ids": [
          18,
          10749
         ],
         "id": 597,
         "original_language": "en",
         "original_title": "Titanic",
         "overview": "101-year-old Rose DeWitt Bukater tells the story of her life aboard the Titanic, 84 years later. A young Rose boards the ship with her mother and fiancé. Meanwhile, Jack Dawson and Fabrizio De Rossi win third-class tickets aboard the ship. Rose tells the whole story from Titanic's departure through to its death—on its first and last voyage—on April 15, 1912.",
         "popularity": 78.03,
         "poster_path": "/9xjZS2rlVxm8SFx8kPC3aIGCOYQ.jpg",
         "release_date": "1997-11-18",
         "title": "Titanic",
         "video": false,
         "vote_average": 7.9,
         "vote_count": 19348
        },
        {
         "adult": false,
         "backdrop_path": "/e9XRikkyth0GtG8RkU3XNm0oMsA.jpg",
         "genre_ids": [
          28,
          12,
          53
         ],
         "id": 44918,
         "original_language": "en",
         "original_title": "Titanic II",
         "overview": "On the 100th anniversary of the original voyage, a modern luxury liner christened \"Titanic 2,\" follows the path of its namesake. But when a tsunami hurls an ice berg into the new ship's path, the passengers and crew must fight to avoid a similar fate.",
         "popularity": 25.165,
         "poster_path": "/3bhv6sf3Q8D3tbUvtPCCh3vdYyA.jpg",
         "release_date": "2010-08-07",
         "title": "Titanic II",
         "video": false,
         "vote_average": 4.8,
         "vote_count": 240
        },
        {
         "adult": false,
         "backdrop_path": "/3oShsRvAyZiQQ5lP2hszWN9Ri0b.jpg",
         "genre_ids": [
          28,
          18,
          10749
         ],
         "id": 16535,
         "original_language": "en",
         "original_title": "Titanic",
         "overview": "Unhappily married, Julia Sturges decides to go to America with her two children on the unsinkable Titanic. Her husband, Richard also arranges passage on the luxury liner so as to have custody of their two children. All this fades to insignificance once the ship hits an iceberg.",
         "popularity": 10.435,
         "poster_path": "/22Fh4UoxP6ejL2IFws76TJ8oYlj.jpg",
         "release_date": "1953-04-11",
         "title": "Titanic",
         "video": false,
         "vote_average": 6.4,
         "vote_count": 75
        },
        {
         "adult": false,
         "backdrop_path": "/82tRA7Vdf7TwdyJYILUh6FuY88L.jpg",
         "genre_ids": [
          99
         ],
         "id": 198901,
         "original_language": "en",
         "original_title": "Titanic: 100 Years On",
         "overview": "The \"unsinkable\" floating palace set sail from Southampton on 10th April 1912 on her maiden voyage to New York. An iceberg ended this monumental journey 5 days later. Only 705 of the passengers and crew survived. This program features an exclusive look at the Sea City Museum Titanic Exhibit in Southampton, interviews from both survivors and the cast of the blockbuster film.",
         "popularity": 15.223,
         "poster_path": "/uAaXfaJpKjmsA3F1KgowcRJPKPM.jpg",
         "release_date": "2012-06-01",
         "title": "Titanic: 100 Years On",
         "video": false,
         "vote_average": 6.8,
         "vote_count": 16
        },
        {
         "adult": false,
         "backdrop_path": "/edHgXEtPbyVIQ7xKb1cvJJqTVhA.jpg",
         "genre_ids": [
          28,
          18,
          36
         ],
         "id": 11021,
         "original_language": "de",
         "original_title": "Titanic",
         "overview": "This little-known German film retells the true story of the British ocean liner that met a tragic fate. Ernst Fritz Fürbringer plays the president of the White Star Line, who unwisely pressed the Titanic's captain (Otto Wernicke) to make the swiftest possible crossing to New York. Interestingly, director Herbert Selpin was arrested by the Gestapo during this film's production, and German censors banned the film for its scenes of panic and terror.",
         "popularity": 6.063,
         "poster_path": "/Al7oIXQ4dZAofBTZWm6OiXS3MEa.jpg",
         "release_date": "1943-11-10",
         "title": "Titanic",
         "video": false,
         "vote_average": 6.1,
         "vote_count": 39
        },
        {
         "adult": false,
         "backdrop_path": "/q3b8Vi2W6j72aXKggiVoDnEyDgU.jpg",
         "genre_ids": [
          12
         ],
         "id": 24575,
         "original_language": "en",
         "original_title": "Raise the Titanic",
         "overview": "To obtain a supply of a rare mineral, a ship raising operation is conducted for the only known source, the Titanic.",
         "popularity": 7.164,
         "poster_path": "/beYNLj44FOdV47tomXuJyPkvCKl.jpg",
         "release_date": "1980-08-01",
         "title": "Raise the Titanic",
         "video": false,
         "vote_average": 5.6,
         "vote_count": 54
        },
        {
         "adult": false,
         "backdrop_path": "/xSssW53a2s2euCdyI4aEpzyZfb1.jpg",
         "genre_ids": [
          878,
          28,
          12,
          35
         ],
         "id": 467839,
         "original_language": "en",
         "original_title": "Aliens vs. Titanic",
         "overview": "Offering only the finest amenities, the ‘TITAN 1C’ space-cruiser is considered the most luxurious star-liner ever built. Future spring-breakers on board are excited to be touring through space with some of the world’s elite. However, a sudden meteor storm smashes into the hull, and a deadly biological alien life form is let loose on the ship.  Seeking a suitable host, the retrovirus successfully merges with some the passengers, transforming them into seemingly invincible predators with the “touch of death”. As the ship is destroyed, the surviving passengers crash on a remote planet, and they learn that one of them is “infected”. They must quickly band together before it has a chance to slaughter them all.",
         "popularity": 5.356,
         "poster_path": "/blREOd05hyvbiA3Qc6BqCJ7unvC.jpg",
         "release_date": "2017-09-18",
         "title": "Aliens vs. Titanic",
         "video": false,
         "vote_average": 5.1,
         "vote_count": 10
        },
        {
         "adult": false,
         "backdrop_path": "/sdtfwZulErbQ7y9RVbaOuWVouD6.jpg",
         "genre_ids": [
          36,
          18,
          53
         ],
         "id": 86938,
         "original_language": "en",
         "original_title": "S.O.S. Titanic",
         "overview": "The Titanic disaster is depicted as seen through the eyes of one couple in each of the three classes on board.",
         "popularity": 4.094,
         "poster_path": "/7OWrNGGHfLzul6Cd3z3z3kYAdHv.jpg",
         "release_date": "1979-09-23",
         "title": "S.O.S. Titanic",
         "video": false,
         "vote_average": 6.2,
         "vote_count": 24
        },
        {
         "adult": false,
         "backdrop_path": null,
         "genre_ids": [
          35,
          27
         ],
         "id": 4240,
         "original_language": "en",
         "original_title": "Titanic 2000",
         "overview": "The luxury liner Titanic 2000 has set sail on its maiden voyage, and one of the passengers is the vampire Vladamina. Vladamina is searching for a woman she can turn into a vampire queen, and frustrated rock groupie Shari looks to be a perfect target. As various people get seduced and/or killed as the liner continues on its doomed voyage, Shari must chose between eternity as a living dead sex slave or a frigid grave at the bottom of the ocean.",
         "popularity": 4.786,
         "poster_path": "/w8KzGphSGIDcUhHmdRbqxYXI8ke.jpg",
         "release_date": "1999-01-01",
         "title": "Titanic 2000",
         "video": false,
         "vote_average": 3.4,
         "vote_count": 8
        },
        {
         "adult": false,
         "backdrop_path": "/4Sddw1BFQFHOIQZ3DY7QS0mGnVe.jpg",
         "genre_ids": [
          16,
          10751
         ],
         "id": 71235,
         "original_language": "it",
         "original_title": "Titanic: La leggenda continua",
         "overview": "An animated retelling of the worst passenger ship disaster in history. In this version, love blossoms between the upper-class Sir William and the blue-collar Angelica, who is hoping to find romance in America. At the same time, there are also a number of animal passengers, including talking dogs, cats and mice, who are also looking forward to arriving in the New World.",
         "popularity": 5.152,
         "poster_path": "/s1PHRSlos2hIFrtA8Ze0JybJTGb.jpg",
         "release_date": "2000-09-15",
         "title": "Titanic: The Legend Goes On...",
         "video": false,
         "vote_average": 2.2,
         "vote_count": 43
        },
        {
         "adult": false,
         "backdrop_path": null,
         "genre_ids": [
          16,
          10751
         ],
         "id": 44310,
         "original_language": "it",
         "original_title": "La leggenda del Titanic",
         "overview": "Old Grandpa mouse tells to his grandchildren the \"real\" story of the Titanic disaster, including evil sharks, a giant octopus, and an evil whaling scheme.",
         "popularity": 3.229,
         "poster_path": "/72ITKkdanAMTeXczHPSPTT2lvf6.jpg",
         "release_date": "1999-01-01",
         "title": "The Legend of the Titanic",
         "video": false,
         "vote_average": 3.2,
         "vote_count": 30
        },
        {
         "adult": false,
         "backdrop_path": "/hDfaa3Nj3K3SkXBr8eALYfPT5pF.jpg",
         "genre_ids": [
          99
         ],
         "id": 428950,
         "original_language": "en",
         "original_title": "Drain the Titanic",
         "overview": "Computer-generated imagery and other visualization techniques reveal how it would look if all the water was removed from RMS Titanic's final resting place.",
         "popularity": 2.882,
         "poster_path": "/68Fppsnpc3OmQK8kIustffrxHbq.jpg",
         "release_date": "2016-05-05",
         "title": "Drain the Titanic",
         "video": false,
         "vote_average": 7.4,
         "vote_count": 8
        },
        {
         "adult": false,
         "backdrop_path": null,
         "genre_ids": [
          99,
          36
         ],
         "id": 530108,
         "original_language": "en",
         "original_title": "The Unsinkable Titanic",
         "overview": "On April 10, 1912, the RMS Titanic embarked on its maiden voyage, sailing from Southampton, England, to New York City. One of the largest and most luxurious passenger liners at the time, the Titanic was also equipped with watertight compartments, which led many to consider the ship unsinkable; an anonymous deckhand famously claimed that “God himself could not sink this ship.” On April 14, however, the ship struck an iceberg, and early the next day it sank. Some 1,500 people perished.",
         "popularity": 2.966,
         "poster_path": "/m3py1JoOPM3s3RTRv965tMC8Fqy.jpg",
         "release_date": "2008-11-03",
         "title": "The Unsinkable Titanic",
         "video": false,
         "vote_average": 9,
         "vote_count": 1
        },
        {
         "adult": false,
         "backdrop_path": "/mEoU71g0SjTDEiMTyRj1bV2EfIp.jpg",
         "genre_ids": [
          99
         ],
         "id": 213362,
         "original_language": "en",
         "original_title": "Reflections on Titanic",
         "overview": "An enthralling and fast-paced four-part documentary feature that covers the making of one of the last major Hollywood epics; Titanic. Cast and crew speak on setting the sinking of the ship against a classic romance. The feature also examines casting and the young couple headlining the film, DiCaprio's and Winslet's on-set friendship and their differing acting styles, the expansive sets and filming locations, the authenticity of the recreated ship, James Cameron's work and dedication, and budgeting. And many more aspects of the film are overviewed.",
         "popularity": 3.308,
         "poster_path": null,
         "release_date": "2012-09-10",
         "title": "Reflections on Titanic",
         "video": false,
         "vote_average": 7.3,
         "vote_count": 18
        },
        {
         "adult": false,
         "backdrop_path": null,
         "genre_ids": [
          99
         ],
         "id": 421657,
         "original_language": "en",
         "original_title": "Inside the Titanic",
         "overview": "An ambitious factual drama that reveals moment by moment exactly how the Titanic sank, telling the untold stories of the engineers and stokers who battled the icy water.",
         "popularity": 2.384,
         "poster_path": "/jDHeorRWLuzyXSUGVX47OSdWvVM.jpg",
         "release_date": "2012-03-22",
         "title": "Inside the Titanic",
         "video": false,
         "vote_average": 7.5,
         "vote_count": 2
        },
        {
         "adult": false,
         "backdrop_path": null,
         "genre_ids": [],
         "id": 760524,
         "original_language": "en",
         "original_title": "Titanic",
         "overview": "\"Titanic\" is a Punjabi feature film. It is family movie. \"Titanic\" is based on a young boy's life whose dreams are so high. He wants to join Indian Navy. Unfortunately his life completely changed due to week financial conditions at home. He starts his work at low level driving of Autoriksha. He works so hard and he faces many obstacles in this work. At the end he accepted that his vehicle is submarine for him.",
         "popularity": 1.625,
         "poster_path": null,
         "release_date": "2018-12-21",
         "title": "Titanic",
         "video": false,
         "vote_average": 0,
         "vote_count": 0
        },
        {
         "adult": false,
         "backdrop_path": null,
         "genre_ids": [
          35
         ],
         "id": 428615,
         "original_language": "ro",
         "original_title": "Titanic vals",
         "overview": "Based on a play by Tudor Mușatescu, Titanic Vals is the essence of Romanian genius in comedy, with amazing performances and the beautiful absurd of the quotidian.",
         "popularity": 1.081,
         "poster_path": "/ezr00Sm1H6Qlq7hRrUZQ9IP7PF3.jpg",
         "release_date": "1964-12-02",
         "title": "Titanic Waltz",
         "video": true,
         "vote_average": 7,
         "vote_count": 4
        },
        {
         "adult": false,
         "backdrop_path": null,
         "genre_ids": [
          10770,
          99
         ],
         "id": 463397,
         "original_language": "en",
         "original_title": "Nazi Titanic",
         "overview": "During a bizarre chapter of WWII, Nazi propaganda minister Joseph Goebbels decided to make a movie based on the sinking of the Titanic. This epic film was so large in scale that the Nazis were forced to divert men, material and ships from the war effort in order to complete it. Titanic was filmed aboard cruise ship SS Cap Arcona in the Baltic Sea. The movie’s director Herbert Selpin was arrested by the Gestapo over comments he made about the ship’s crew and he was questioned by Goebbels. Selpin was found dead the next day in his cell. The Gestapo’s verdict was suicide. Titanic never received the impressive premiere that Goebbels intended, being first shown in Nazi-occupied Paris in 1943. We reveal this little known but fascinating story by looking at the making of the film, as well as the fate of the German ship Cap Arcona.",
         "popularity": 1.546,
         "poster_path": "/pmCnVAP0dQumyDMgCnzEgnpMt1g.jpg",
         "release_date": "2012-04-14",
         "title": "Nazi Titanic",
         "video": false,
         "vote_average": 7,
         "vote_count": 3
        },
        {
         "adult": false,
         "backdrop_path": "/djFWCethTNYz5WPqIso6IVXTtFU.jpg",
         "genre_ids": [
          10749,
          18
         ],
         "id": 115872,
         "original_language": "fr",
         "original_title": "La femme de chambre du Titanic",
         "overview": "Horty, a French foundry worker, wins a contest and is sent to see the sailing of the Titanic. In England, Marie, saying she is a chambermaid on the Titanic and cannot get a room, asks to share his room. They do, chastely; when he awakens, she is gone, but he sees her at the sailing and gets a photo of her. When he returns home, he suspects that his wife Zoe has been sleeping with Simeon, the foundry owner. Horty goes to the bar, where his friends get him drunk and he starts telling an erotic fantasy of what happened with him and Marie, drawing a larger audience each night.",
         "popularity": 2.566,
         "poster_path": "/1piPVRdPrkIwlNGsrtv3GVrPaqr.jpg",
         "release_date": "1997-10-10",
         "title": "The Chambermaid on the Titanic",
         "video": false,
         "vote_average": 6.1,
         "vote_count": 16
        },
        {
         "adult": false,
         "backdrop_path": null,
         "genre_ids": [],
         "id": 455679,
         "original_language": "pt",
         "original_title": "Titanic",
         "overview": "",
         "popularity": 1.236,
         "poster_path": null,
         "title": "Titanic",
         "video": false,
         "vote_average": 10,
         "vote_count": 1
        }
       ],
       "total_pages": 7,
       "total_results": 135
      },
      "text/plain": [
       "<IPython.core.display.JSON object>"
      ]
     },
     "execution_count": 11,
     "metadata": {
      "application/json": {
       "expanded": false,
       "root": "root"
      }
     },
     "output_type": "execute_result"
    }
   ],
   "source": [
    "query = 'titanic'\n",
    "params={\"query\":query,\"api_key\":api_key}\n",
    "response_json = get_json(movie_search_endpoint,params=params)\n",
    "JSON(response_json)"
   ]
  },
  {
   "cell_type": "code",
   "execution_count": 12,
   "id": "20ebebb2-c517-4a78-a77f-f44ffba6ad54",
   "metadata": {},
   "outputs": [
    {
     "data": {
      "application/json": {
       "page": 1,
       "results": [
        {
         "adult": false,
         "backdrop_path": "/nzMmMevQsL6HvHfi4rwNT0xLNuu.jpg",
         "genre_ids": [
          18
         ],
         "id": 1402,
         "original_language": "en",
         "original_title": "The Pursuit of Happyness",
         "overview": "A struggling salesman takes custody of his son as he's poised to begin a life-changing professional career.",
         "popularity": 20.681,
         "poster_path": "/lBYOKAMcxIvuk9s9hMuecB9dPBV.jpg",
         "release_date": "2006-12-14",
         "title": "The Pursuit of Happyness",
         "video": false,
         "vote_average": 7.9,
         "vote_count": 7501
        }
       ],
       "total_pages": 1,
       "total_results": 1
      },
      "text/plain": [
       "<IPython.core.display.JSON object>"
      ]
     },
     "execution_count": 12,
     "metadata": {
      "application/json": {
       "expanded": false,
       "root": "root"
      }
     },
     "output_type": "execute_result"
    }
   ],
   "source": [
    "query = 'The pursuit of happyness'\n",
    "params={\"query\":query,\"api_key\":api_key}\n",
    "response_json = get_json(movie_search_endpoint,params=params)\n",
    "JSON(response_json)"
   ]
  },
  {
   "cell_type": "code",
   "execution_count": 15,
   "id": "776907a6-74d2-4592-8b03-e89794b4ded7",
   "metadata": {},
   "outputs": [
    {
     "data": {
      "application/json": {
       "adult": false,
       "backdrop_path": "/nzMmMevQsL6HvHfi4rwNT0xLNuu.jpg",
       "belongs_to_collection": null,
       "budget": 55000000,
       "genres": [
        {
         "id": 18,
         "name": "Drama"
        }
       ],
       "homepage": "http://www.sonypictures.com/homevideo/thepursuitofhappyness/",
       "id": 1402,
       "imdb_id": "tt0454921",
       "original_language": "en",
       "original_title": "The Pursuit of Happyness",
       "overview": "A struggling salesman takes custody of his son as he's poised to begin a life-changing professional career.",
       "popularity": 20.681,
       "poster_path": "/lBYOKAMcxIvuk9s9hMuecB9dPBV.jpg",
       "production_companies": [
        {
         "id": 1423,
         "logo_path": "/9KSoL1oEQaBSPLwEhoZZRoxTzyx.png",
         "name": "Escape Artists",
         "origin_country": "US"
        },
        {
         "id": 7295,
         "logo_path": "/5MYE96QiE5a5oFhXxFb4y8ILSpw.png",
         "name": "Relativity Media",
         "origin_country": "US"
        },
        {
         "id": 5,
         "logo_path": "/71BqEFAF4V3qjjMPCpLuyJFB9A.png",
         "name": "Columbia Pictures",
         "origin_country": "US"
        },
        {
         "id": 907,
         "logo_path": "/ca5SWI5uvU985f8Kbb4xc8AmVWH.png",
         "name": "Overbrook Entertainment",
         "origin_country": "US"
        }
       ],
       "production_countries": [
        {
         "iso_3166_1": "US",
         "name": "United States of America"
        }
       ],
       "release_date": "2006-12-14",
       "revenue": 307077295,
       "runtime": 117,
       "spoken_languages": [
        {
         "english_name": "English",
         "iso_639_1": "en",
         "name": "English"
        },
        {
         "english_name": "Cantonese",
         "iso_639_1": "cn",
         "name": "广州话 / 廣州話"
        }
       ],
       "status": "Released",
       "tagline": "",
       "title": "The Pursuit of Happyness",
       "video": false,
       "vote_average": 7.9,
       "vote_count": 7501
      },
      "text/plain": [
       "<IPython.core.display.JSON object>"
      ]
     },
     "execution_count": 15,
     "metadata": {
      "application/json": {
       "expanded": false,
       "root": "root"
      }
     },
     "output_type": "execute_result"
    }
   ],
   "source": [
    "response_json = get_json(\"/movie/1402\")\n",
    "JSON(response_json)"
   ]
  },
  {
   "cell_type": "code",
   "execution_count": 16,
   "id": "7c1dd2a6-3773-4717-8939-34985be2eaf4",
   "metadata": {},
   "outputs": [
    {
     "data": {
      "application/json": {
       "page": 1,
       "results": [
        {
         "adult": false,
         "gender": 1,
         "id": 5081,
         "known_for": [
          {
           "adult": false,
           "backdrop_path": "/auZIuHEUec5tBTns3tCRXfayxZq.jpg",
           "genre_ids": [
            28,
            878
           ],
           "id": 137113,
           "media_type": "movie",
           "original_language": "en",
           "original_title": "Edge of Tomorrow",
           "overview": "Major Bill Cage is an officer who has never seen a day of combat when he is unceremoniously demoted and dropped into combat. Cage is killed within minutes, managing to take an alpha alien down with him. He awakens back at the beginning of the same day and is forced to fight and die again... and again - as physical contact with the alien has thrown him into a time loop.",
           "poster_path": "/uUHvlkLavotfGsNtosDy8ShsIYF.jpg",
           "release_date": "2014-05-27",
           "title": "Edge of Tomorrow",
           "video": false,
           "vote_average": 7.6,
           "vote_count": 10681
          },
          {
           "adult": false,
           "backdrop_path": "/roYyPiQDQKmIKUEhO912693tSja.jpg",
           "genre_ids": [
            27,
            18,
            878
           ],
           "id": 447332,
           "media_type": "movie",
           "original_language": "en",
           "original_title": "A Quiet Place",
           "overview": "A family is forced to live in silence while hiding from creatures that hunt by sound.",
           "poster_path": "/nAU74GmpUk7t5iklEp3bufwDq4n.jpg",
           "release_date": "2018-04-03",
           "title": "A Quiet Place",
           "video": false,
           "vote_average": 7.4,
           "vote_count": 9950
          },
          {
           "adult": false,
           "backdrop_path": "/3tWw50B1xXlCnJ9A7NX4nNzZF4j.jpg",
           "genre_ids": [
            35,
            18,
            10749
           ],
           "id": 350,
           "media_type": "movie",
           "original_language": "en",
           "original_title": "The Devil Wears Prada",
           "overview": "Andy moves to New York to work in the fashion industry. Her boss is extremely demanding, cruel and won't let her succeed if she doesn't fit into the high class elegant look of their magazine.",
           "poster_path": "/8912AsVuS7Sj915apArUFbv6F9L.jpg",
           "release_date": "2006-06-30",
           "title": "The Devil Wears Prada",
           "video": false,
           "vote_average": 7.4,
           "vote_count": 9272
          }
         ],
         "known_for_department": "Acting",
         "name": "Emily Blunt",
         "popularity": 27.243,
         "profile_path": "/jqlqq3knztTnty5rcMg5evqZRCa.jpg"
        }
       ],
       "total_pages": 1,
       "total_results": 1
      },
      "text/plain": [
       "<IPython.core.display.JSON object>"
      ]
     },
     "execution_count": 16,
     "metadata": {
      "application/json": {
       "expanded": false,
       "root": "root"
      }
     },
     "output_type": "execute_result"
    }
   ],
   "source": [
    "query = 'Emily blunt'\n",
    "response_json = get_json(person_search_endpoint,params={\"api_key\":api_key,\"query\":query})\n",
    "JSON(response_json)"
   ]
  },
  {
   "cell_type": "code",
   "execution_count": 17,
   "id": "107775c5-a444-4011-aaca-50aa120c4f13",
   "metadata": {},
   "outputs": [
    {
     "data": {
      "application/json": {
       "adult": false,
       "also_known_as": [
        "Emily Olivia Leah Blunt ",
        "Эмили Блант",
        "إيميلي بلنت",
        "에밀리 블런트",
        "愛蜜莉·布朗",
        "เอมิลี บลันต์",
        "エミリー・ブラント",
        "艾米莉·布朗特",
        "Έμιλι Μπλαντ"
       ],
       "biography": "Emily Olivia Leah Blunt (born 23 February 1983)  is a British actress known for her film roles in The Devil Wears Prada (2006), The Young Victoria (2009), Edge of Tomorrow (2014), and The Girl on the Train (2016), among many others.",
       "birthday": "1983-02-23",
       "deathday": null,
       "gender": 1,
       "homepage": null,
       "id": 5081,
       "imdb_id": "nm1289434",
       "known_for_department": "Acting",
       "name": "Emily Blunt",
       "place_of_birth": "Wandsworth, London, England, UK",
       "popularity": 33.476,
       "profile_path": "/jqlqq3knztTnty5rcMg5evqZRCa.jpg"
      },
      "text/plain": [
       "<IPython.core.display.JSON object>"
      ]
     },
     "execution_count": 17,
     "metadata": {
      "application/json": {
       "expanded": false,
       "root": "root"
      }
     },
     "output_type": "execute_result"
    }
   ],
   "source": [
    "response_json = get_json(\"/person/5081\")\n",
    "JSON(response_json)"
   ]
  },
  {
   "cell_type": "code",
   "execution_count": 19,
   "id": "7f9a68f7-383c-4ce5-9b61-3bd5ce7e42cb",
   "metadata": {},
   "outputs": [
    {
     "data": {
      "application/json": {
       "page": 1,
       "results": [
        {
         "backdrop_path": "/vNpuAxGTl9HsUbHqam3E9CzqCvX.jpg",
         "first_air_date": "2005-03-24",
         "genre_ids": [
          35
         ],
         "id": 2316,
         "name": "The Office",
         "origin_country": [
          "US"
         ],
         "original_language": "en",
         "original_name": "The Office",
         "overview": "The everyday lives of office employees in the Scranton, Pennsylvania branch of the fictional Dunder Mifflin Paper Company.",
         "popularity": 109.669,
         "poster_path": "/qWnJzyZhyy74gjpSjIXWmuk0ifX.jpg",
         "vote_average": 8.5,
         "vote_count": 1717
        },
        {
         "backdrop_path": "/ZYmHf5hSAIaeEENXh0FGAbLSCQ.jpg",
         "first_air_date": "2001-07-09",
         "genre_ids": [
          35
         ],
         "id": 2996,
         "name": "The Office",
         "origin_country": [
          "GB"
         ],
         "original_language": "en",
         "original_name": "The Office",
         "overview": "Documentary-style sitcom set in the offices of a Slough paper merchant.",
         "popularity": 16.903,
         "poster_path": "/orzJbkbocfSz9D1SY9H8Rhh8a27.jpg",
         "vote_average": 7.9,
         "vote_count": 430
        },
        {
         "backdrop_path": "/5ZLWXldWkfOYqd34gxNZg5vScQI.jpg",
         "first_air_date": "2019-06-28",
         "genre_ids": [
          35
         ],
         "id": 90762,
         "name": "The Office",
         "origin_country": [
          "IN"
         ],
         "original_language": "hi",
         "original_name": "The Office",
         "overview": "Life at Wilkins Chawla, a mediocre paper company is as boring as the humour of its 'Fun'jabi boss. Add to it some ordinary employees, an uncomfortable receptionist, the boss' sycophant, and the mediocrity goes a notch higher!",
         "popularity": 2.235,
         "poster_path": "/p61QSlJor7edi2DJIH0jFL3whfa.jpg",
         "vote_average": 7,
         "vote_count": 6
        },
        {
         "backdrop_path": "/e3h97EqlVpsgJrlWsNHIcZOl2od.jpg",
         "first_air_date": "1995-03-11",
         "genre_ids": [
          35
         ],
         "id": 24876,
         "name": "The Office",
         "origin_country": [
          "US"
         ],
         "original_language": "en",
         "original_name": "The Office",
         "overview": "A look at office life seen though the eyes of Rita Stone, a secretary who has worked at the packaging department of an ad agency called Package, Inc for 19 years. ",
         "popularity": 1.981,
         "poster_path": "/bQ7HIZd71VYQRhTvZHBVDBkQ43I.jpg",
         "vote_average": 0,
         "vote_count": 0
        },
        {
         "backdrop_path": null,
         "first_air_date": "2018-06-26",
         "genre_ids": [],
         "id": 80428,
         "name": "The Office - Luxembourg",
         "origin_country": [],
         "original_language": "nl",
         "original_name": "The Office - Luxembourg",
         "overview": "",
         "popularity": 0.606,
         "poster_path": null,
         "vote_average": 0,
         "vote_count": 0
        },
        {
         "backdrop_path": null,
         "first_air_date": "1994-09-26",
         "genre_ids": [
          35
         ],
         "id": 25800,
         "name": "Nice Day at the Office",
         "origin_country": [
          "GB"
         ],
         "original_language": "en",
         "original_name": "Nice Day at the Office",
         "overview": "Nice Day at the Office is a British sitcom starring Timothy Spall, John Sessions and David Haig as put-upon and frustrated employees of a large company.",
         "popularity": 0.979,
         "poster_path": null,
         "vote_average": 0,
         "vote_count": 0
        },
        {
         "backdrop_path": null,
         "first_air_date": "2004-10-21",
         "genre_ids": [
          10764
         ],
         "id": 24781,
         "name": "The 1970s Office",
         "origin_country": [
          "GB"
         ],
         "original_language": "en",
         "original_name": "The 1970s Office",
         "overview": "Two teams of advertising executives compete to win the Raleigh of Nottingham's 'Raleigh Chopper' Christmas ad campaign. One team live and work the 1970s - without computers, mobile phones, internet or even motorcycle couriers - and has two weeks to put together a pitch. The other has team access to all modern technology, but only has a day to do the job.",
         "popularity": 0.71,
         "poster_path": null,
         "vote_average": 0,
         "vote_count": 0
        },
        {
         "backdrop_path": null,
         "first_air_date": "2008-08-21",
         "genre_ids": [
          10764
         ],
         "id": 7819,
         "name": "The Principal's Office",
         "origin_country": [
          "US"
         ],
         "original_language": "en",
         "original_name": "The Principal's Office",
         "overview": "A reality television program set in American high schools and features dramatic and humorous encounters between students and principals. Some events that lead to such encounters are students being late to class, truancy, food fights, smoking, and disruptive conduct in class.",
         "popularity": 0.6,
         "poster_path": "/i2wOnt2i0NBoSqVHnfmviVJMYAK.jpg",
         "vote_average": 0,
         "vote_count": 0
        },
        {
         "backdrop_path": null,
         "first_air_date": "2008-06-29",
         "genre_ids": [
          10764
         ],
         "id": 25477,
         "name": "The Singing Office",
         "origin_country": [
          "US"
         ],
         "original_language": "en",
         "original_name": "The Singing Office",
         "overview": "Groups of office coworkers compete against each other in a singing competition -- hosted by ex-Spice Girl Melanie Brown and ex-NSYNC member Joey Fatone.",
         "popularity": 0.6,
         "poster_path": "/fJGTlJSyrynMRzMwqa7E5D6wjij.jpg",
         "vote_average": 0,
         "vote_count": 0
        },
        {
         "backdrop_path": null,
         "first_air_date": "",
         "genre_ids": [],
         "id": 56860,
         "name": "The Singing Office",
         "origin_country": [
          "AU"
         ],
         "original_language": "en",
         "original_name": "The Singing Office",
         "overview": "",
         "popularity": 0.6,
         "poster_path": null,
         "vote_average": 0,
         "vote_count": 0
        },
        {
         "backdrop_path": null,
         "first_air_date": "",
         "genre_ids": [],
         "id": 56813,
         "name": "In the Production Office",
         "origin_country": [
          "US"
         ],
         "original_language": "en",
         "original_name": "In the Production Office",
         "overview": "",
         "popularity": 0.6,
         "poster_path": null,
         "vote_average": 0,
         "vote_count": 0
        },
        {
         "backdrop_path": null,
         "first_air_date": "2015-07-29",
         "genre_ids": [],
         "id": 118039,
         "name": "Signed, Sealed, Delivered: Inside the Post Office",
         "origin_country": [
          "GB"
         ],
         "original_language": "en",
         "original_name": "Signed, Sealed, Delivered: Inside the Post Office",
         "overview": "An eye-opening look inside the Post Office - an iconic national institution undergoing the biggest shake-up in its nearly 400-year history as it battles to reinvent itself for the modern world.",
         "popularity": 0.6,
         "poster_path": null,
         "vote_average": 0,
         "vote_count": 0
        },
        {
         "backdrop_path": "/dmVj3aNLcyzIxS1EM5GvL7Cg16W.jpg",
         "first_air_date": "2017-03-03",
         "genre_ids": [
          35
         ],
         "id": 70633,
         "name": "The Office",
         "origin_country": [
          "FI"
         ],
         "original_language": "fi",
         "original_name": "Konttori",
         "overview": "Finnish adaption of the British TV series \"The Office\".",
         "popularity": 1.29,
         "poster_path": "/gXRVl5vnlvy3erURyKXd0ZsoZtt.jpg",
         "vote_average": 0,
         "vote_count": 0
        },
        {
         "backdrop_path": null,
         "first_air_date": "2010-08-10",
         "genre_ids": [
          35
         ],
         "id": 37054,
         "name": "The Office",
         "origin_country": [
          "IL"
         ],
         "original_language": "he",
         "original_name": "המשרד",
         "overview": "“The Office” is a mocumentary series based on the British show of the same name. Somewhere within the industrial area of Yahud is a grey, drab office, the failing branch of an office supply company heroically named “Paper-Office”. The branch is run by the show’s protagonist, Avi Meshulam, a 40-year-old loser, who’s overweight and has severe self-image issues that turn him into a liar, a suck-up, and a generally unbearable human being. He’s absolutely sure that he’s a wonderful standup comedian, who wound up in this boring, humiliating job purely by chance.\n\nManagement is constantly trying to fire him, his employees despise him, yet he is ever the optimist, and he talks in catch phrases lifted from the most banal management books. He is surrounded by the range of characters that make up the impossible mosaic of Israeli society. Romance flourishes, schemes are hatched, lamination machines are sold on sale– and everybody tries to make it through yet another day with their unbearable boss.",
         "popularity": 1.193,
         "poster_path": null,
         "vote_average": 0,
         "vote_count": 0
        },
        {
         "backdrop_path": "/dVISMO3TdX9HfcnA4gt3PSqcfjL.jpg",
         "first_air_date": "2009-04-09",
         "genre_ids": [
          35
         ],
         "id": 8592,
         "name": "Parks and Recreation",
         "origin_country": [
          "US"
         ],
         "original_language": "en",
         "original_name": "Parks and Recreation",
         "overview": "Hilarious ensemble comedy that follows Leslie Knope, a mid-level bureaucrat in the Parks and Recreation Department of Pawnee, Indiana, and her tireless efforts to make her quintessentially American town just a little bit more fun.",
         "popularity": 64.638,
         "poster_path": "/dFs6yHxheEGoZSoA0Fdkgy6Jxh0.jpg",
         "vote_average": 8,
         "vote_count": 750
        },
        {
         "backdrop_path": null,
         "first_air_date": "2014-04-13",
         "genre_ids": [
          35
         ],
         "id": 63545,
         "name": "The Office Blanik",
         "origin_country": [
          "CZ"
         ],
         "original_language": "cs",
         "original_name": "Kancelář Blaník",
         "overview": "Do not pull punches and rigorously governed by politics - it is a lobbyist Tony Blanik.",
         "popularity": 0.6,
         "poster_path": null,
         "vote_average": 7,
         "vote_count": 1
        },
        {
         "backdrop_path": null,
         "first_air_date": "1974-02-17",
         "genre_ids": [
          18
         ],
         "id": 60647,
         "name": "In the Registrar's Office",
         "origin_country": [
          "HR"
         ],
         "original_language": "hr",
         "original_name": "U registraturi",
         "overview": "Based on the Ante Kovačić's novel \"U registraturi\" (In the Registrar's Office, 1888.)",
         "popularity": 1.999,
         "poster_path": "/gI5FU238TkroGG0InCzpWQUBKQw.jpg",
         "vote_average": 8,
         "vote_count": 1
        },
        {
         "backdrop_path": "/tESyWvpMZczQCYL6dWuKoqdGrpi.jpg",
         "first_air_date": "2013-04-01",
         "genre_ids": [
          35,
          18
         ],
         "id": 78163,
         "name": "The Queen of Office",
         "origin_country": [
          "KR"
         ],
         "original_language": "ko",
         "original_name": "직장의 신",
         "overview": "Temporary employee Ms. Kim is a remarkable woman. She possesses highly advanced skills in seemingly all work fields. She's also highly confident and always sticks to her ideals. Jang Kyu-Jik is a hot-shot foreign educated MBA, hired to turn around a flagging corporation. As they begin work together at their new jobs, can they ever co-exist?",
         "popularity": 2.331,
         "poster_path": "/eIoNr2dLb427yYJiRc7vuElgVcp.jpg",
         "vote_average": 7,
         "vote_count": 1
        }
       ],
       "total_pages": 1,
       "total_results": 18
      },
      "text/plain": [
       "<IPython.core.display.JSON object>"
      ]
     },
     "execution_count": 19,
     "metadata": {
      "application/json": {
       "expanded": false,
       "root": "root"
      }
     },
     "output_type": "execute_result"
    }
   ],
   "source": [
    "query = 'The Office'\n",
    "params={\"query\":query,\"api_key\":api_key}\n",
    "response_json = get_json(tv_search_endpoint,params=params)\n",
    "JSON(response_json)"
   ]
  },
  {
   "cell_type": "code",
   "execution_count": 20,
   "id": "64d203d6-8b2e-463e-a2d8-2704c304ff5b",
   "metadata": {},
   "outputs": [
    {
     "data": {
      "application/json": {
       "backdrop_path": "/vNpuAxGTl9HsUbHqam3E9CzqCvX.jpg",
       "created_by": [
        {
         "credit_id": "525730af760ee3776a344e89",
         "gender": 2,
         "id": 17835,
         "name": "Ricky Gervais",
         "profile_path": "/2mAjcq9AQA9peQxNoeEW76DPIju.jpg"
        },
        {
         "credit_id": "525730af760ee3776a344e8f",
         "gender": 2,
         "id": 39189,
         "name": "Stephen Merchant",
         "profile_path": "/6WM2rK6390Nwk398syJbGcPvRct.jpg"
        },
        {
         "credit_id": "525730af760ee3776a344e95",
         "gender": 2,
         "id": 1216630,
         "name": "Greg Daniels",
         "profile_path": "/2Hi7Tw0fyYFOZex8BuGsHS8Q4KD.jpg"
        }
       ],
       "episode_run_time": [
        22
       ],
       "first_air_date": "2005-03-24",
       "genres": [
        {
         "id": 35,
         "name": "Comedy"
        }
       ],
       "homepage": "http://www.nbc.com/The_Office/",
       "id": 2316,
       "in_production": false,
       "languages": [
        "en"
       ],
       "last_air_date": "2013-05-16",
       "last_episode_to_air": {
        "air_date": "2013-05-16",
        "episode_number": 23,
        "id": 170335,
        "name": "Finale",
        "overview": "One year later, Dunder Mifflin employees past and present reunite for a panel discussion about the documentary and to attend Dwight and Angela's wedding.",
        "production_code": "",
        "season_number": 9,
        "still_path": "/1pJtFmAS3TJuWoCaUrY904pqNFE.jpg",
        "vote_average": 8.688,
        "vote_count": 16
       },
       "name": "The Office",
       "networks": [
        {
         "id": 6,
         "logo_path": "/o3OedEP0f9mfZr33jz2BfXOUK5.png",
         "name": "NBC",
         "origin_country": "US"
        }
       ],
       "next_episode_to_air": null,
       "number_of_episodes": 195,
       "number_of_seasons": 9,
       "origin_country": [
        "US"
       ],
       "original_language": "en",
       "original_name": "The Office",
       "overview": "The everyday lives of office employees in the Scranton, Pennsylvania branch of the fictional Dunder Mifflin Paper Company.",
       "popularity": 109.669,
       "poster_path": "/qWnJzyZhyy74gjpSjIXWmuk0ifX.jpg",
       "production_companies": [],
       "production_countries": [
        {
         "iso_3166_1": "US",
         "name": "United States of America"
        }
       ],
       "seasons": [
        {
         "air_date": "2006-07-13",
         "episode_count": 89,
         "id": 7246,
         "name": "Specials",
         "overview": "",
         "poster_path": "/lWu7cvMEiDvKaacpoTeYmoOf35T.jpg",
         "season_number": 0
        },
        {
         "air_date": "2005-03-24",
         "episode_count": 6,
         "id": 7240,
         "name": "Season 1",
         "overview": "This season introduced the main characters, and established the general plot, which revolves around Michael Scott, regional manager of the Scranton branch office, trying to convince the filmmakers of the documentary that he presides over a happy, well-running office. Meanwhile, sales rep Jim Halpert finds methods to undermine his cube-mate, Dwight Schrute; receptionist Pam Beesly tries to deal with Michael's insensitivities and flubs; and temporary employee Ryan Howard is acting mostly as an observer of the insanity around him.",
         "poster_path": "/9RPvjEGAB81upmU0z7tx7Y9vvUz.jpg",
         "season_number": 1
        },
        {
         "air_date": "2005-09-20",
         "episode_count": 22,
         "id": 7241,
         "name": "Season 2",
         "overview": "Beginning with \"The Dundies\", the second season further developed into the plot of the fear of company downsizing, along with the introduction of new characters and developing some of the minor ones—especially that of Dwight Schrute. Michael Scott soon starts a relationship with his boss Jan Levenson and, Pam Beesley and Jim Halpert’s relationship become one of the focal points of the season. Their compatibility becomes more obvious as Jim’s feelings for Pam continue to grow, while she struggles with her relationship with the warehouse worker Roy Anderson.",
         "poster_path": "/9CQjqZ6ZRS9PEsqkOXlRBC9wfdv.jpg",
         "season_number": 2
        },
        {
         "air_date": "2006-09-21",
         "episode_count": 23,
         "id": 7242,
         "name": "Season 3",
         "overview": "The season marked the move of main character Jim Halpert from Scranton to Stamford, and also introduced Rashida Jones as Karen Filippelli, and Ed Helms as Andy Bernard—both members of Dunder Mifflin Stamford—as recurring characters. Helms would later be promoted to series regular. The main plot for the early episodes of the season deals with a recurring problem in seasons one and two—the problem of company downsizing—while in the last half of the season, inter-office relationships also became a major plot point.",
         "poster_path": "/zGxblXDKUeo81yi0KNVVs4AvjxE.jpg",
         "season_number": 3
        },
        {
         "air_date": "2007-09-27",
         "episode_count": 19,
         "id": 7245,
         "name": "Season 4",
         "overview": "Season four marked the departure of Karen Filippelli as a regular character, although she appeared for a few seconds in the first episode, \"Fun Run\" and in the sixth episode, \"Branch Wars\", as the regional manager of the Utica branch. Relationships again emerged as the main theme of the season, with Jim Halpert and Pam Beesley's rising, and Michael Scott and Jan Levinson's, as well as Dwight Schrute and Angela Martin's declining. Technology was another prevalent theme as the office staff struggled with initiatives introduced by Ryan Howard to modernize the company.",
         "poster_path": "/HqGZzzRQxo75kkF2pVimmYdJO3.jpg",
         "season_number": 4
        },
        {
         "air_date": "2008-09-25",
         "episode_count": 26,
         "id": 7244,
         "name": "Season 5",
         "overview": "The fifth season of the American television comedy The Office premiered in the United States in the 2008–2009 television season on NBC on September 25, 2008 and concluded on May 14, 2009. The fifth season consisted of 28 half-hours of material, divided into 24 half-hour episodes and two hour-long episodes. The Office is an American adaptation of the British TV series of the same name, and is presented in a mockumentary format, portraying the daily lives of office employees in the Scranton, Pennsylvania branch of the fictitious Dunder Mifflin Paper Company.",
         "poster_path": "/c9CBqohqBfsEkXY72VCX635GCRc.jpg",
         "season_number": 5
        },
        {
         "air_date": "2009-09-17",
         "episode_count": 26,
         "id": 7243,
         "name": "Season 6",
         "overview": "The sixth season of the American television comedy The Office premiered in the United States on NBC on September 17, 2009, and concluded on May 20, 2010. The season consisted of 22 half-hour episodes, and 2 hour-long episodes to comprise the 26 total episodes of material created.",
         "poster_path": "/fUFhM2FGoeRefSZQUV5nbygtvCi.jpg",
         "season_number": 6
        },
        {
         "air_date": "2010-09-23",
         "episode_count": 26,
         "id": 7247,
         "name": "Season 7",
         "overview": "The seventh season of the American television comedy The Office premiered on September 23, 2010 and concluded on May 19, 2011. The season consisted of 26 half-hours of material, divided into 22 half-hour episodes and two hour-long episodes. The seventh season aired on Thursdays at 9:00 p.m. as part of Comedy Night Done Right. This was the last season to feature Michael Scott, played by Steve Carell, as the lead character.",
         "poster_path": "/jzs5ZfkP0ns1mw43TsNgMd6zPJ2.jpg",
         "season_number": 7
        },
        {
         "air_date": "2011-09-22",
         "episode_count": 24,
         "id": 7248,
         "name": "Season 8",
         "overview": "The eighth season largely centers around Andy Bernard's ascension to regional manager, as well as the antics of Robert California, the new CEO of Sabre, a fictional printer company that owns Dunder Mifflin. Halfway through the season, Dwight Schrute —along with Jim Halpert, Stanley Hudson, Ryan Howard, Erin Hannon, and Cathy —travel to Florida to help set up a Sabre Store, where Nellie Bertram is introduced. Eventually, former CEO of Dunder Mifflin David Wallace buys back the company, firing California.",
         "poster_path": "/qDRZ2BZUYbKTalyKtsCfOuZvAp.jpg",
         "season_number": 8
        },
        {
         "air_date": "2012-09-20",
         "episode_count": 23,
         "id": 7249,
         "name": "Season 9",
         "overview": "The ninth season largely focuses on the relationship between Jim and Pam Halpert.",
         "poster_path": "/wdjefTcCnRWSEDV9tZ9xSzGIbxu.jpg",
         "season_number": 9
        }
       ],
       "spoken_languages": [
        {
         "english_name": "English",
         "iso_639_1": "en",
         "name": "English"
        }
       ],
       "status": "Ended",
       "tagline": "",
       "type": "Scripted",
       "vote_average": 8.5,
       "vote_count": 1717
      },
      "text/plain": [
       "<IPython.core.display.JSON object>"
      ]
     },
     "execution_count": 20,
     "metadata": {
      "application/json": {
       "expanded": false,
       "root": "root"
      }
     },
     "output_type": "execute_result"
    }
   ],
   "source": [
    "response_json = get_json(\"/tv/2316\")\n",
    "JSON(response_json)"
   ]
  },
  {
   "cell_type": "code",
   "execution_count": 22,
   "id": "dc58d775-30b5-4f6f-ade3-107fc985a90e",
   "metadata": {},
   "outputs": [],
   "source": [
    "def print_top_trending(num,response_json,parameter):\n",
    "    for elem_id in range(num):\n",
    "        print(response_json[\"results\"][elem_id][parameter])"
   ]
  },
  {
   "cell_type": "code",
   "execution_count": 24,
   "id": "8f34bdc0-e0a1-4ec7-b6f3-e660a8670aa9",
   "metadata": {},
   "outputs": [
    {
     "name": "stdout",
     "output_type": "stream",
     "text": [
      "Luca\n",
      "The Conjuring: The Devil Made Me Do It\n",
      "Cruella\n",
      "Godzilla vs. Kong\n",
      "Fatherhood\n"
     ]
    }
   ],
   "source": [
    "response_json = get_json(\"/trending/movie/week\")\n",
    "print_top_trending(5,response_json,\"title\")"
   ]
  },
  {
   "cell_type": "code",
   "execution_count": 25,
   "id": "d6fb0588-9523-4ec4-bc9e-570f7dfdd23a",
   "metadata": {},
   "outputs": [
    {
     "name": "stdout",
     "output_type": "stream",
     "text": [
      "Loki\n",
      "Lupin\n",
      "Elite\n",
      "Rick and Morty\n",
      "Katla\n"
     ]
    }
   ],
   "source": [
    "response_json = get_json(\"/trending/tv/week\")\n",
    "print_top_trending(5,response_json,\"name\")"
   ]
  },
  {
   "cell_type": "code",
   "execution_count": 26,
   "id": "193e02f0-8b17-4486-a502-382d1a01c5c3",
   "metadata": {},
   "outputs": [
    {
     "name": "stdout",
     "output_type": "stream",
     "text": [
      "Jackie Chan\n",
      "Tom Cruise\n",
      "Brad Pitt\n",
      "Dwayne Johnson\n",
      "Jason Statham\n"
     ]
    }
   ],
   "source": [
    "response_json = get_json(\"/trending/person/week\")\n",
    "print_top_trending(5,response_json,\"name\")"
   ]
  }
 ],
 "metadata": {
  "kernelspec": {
   "display_name": "bootcamp",
   "language": "python",
   "name": "bootcamp"
  },
  "language_info": {
   "codemirror_mode": {
    "name": "ipython",
    "version": 3
   },
   "file_extension": ".py",
   "mimetype": "text/x-python",
   "name": "python",
   "nbconvert_exporter": "python",
   "pygments_lexer": "ipython3",
   "version": "3.9.5"
  }
 },
 "nbformat": 4,
 "nbformat_minor": 5
}
