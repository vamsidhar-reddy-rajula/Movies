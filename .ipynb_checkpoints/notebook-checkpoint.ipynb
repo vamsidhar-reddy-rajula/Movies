{
 "cells": [
  {
   "cell_type": "code",
   "execution_count": 3,
   "id": "03bd91d7-1925-4540-9466-7b272dc36dd0",
   "metadata": {},
   "outputs": [],
   "source": [
    "import requests\n",
    "import configs\n",
    "from IPython.display import JSON"
   ]
  },
  {
   "cell_type": "code",
   "execution_count": 4,
   "id": "1a68f991-fbc6-495b-a7b4-dc120087ca32",
   "metadata": {},
   "outputs": [
    {
     "data": {
      "application/json": {
       "page": 1,
       "results": [
        {
         "adult": false,
         "backdrop_path": "/6VmFqApQRyZZzmiGOQq2C92jyvH.jpg",
         "genre_ids": [
          18,
          10749
         ],
         "id": 597,
         "original_language": "en",
         "original_title": "Titanic",
         "overview": "101-year-old Rose DeWitt Bukater tells the story of her life aboard the Titanic, 84 years later. A young Rose boards the ship with her mother and fiancé. Meanwhile, Jack Dawson and Fabrizio De Rossi win third-class tickets aboard the ship. Rose tells the whole story from Titanic's departure through to its death—on its first and last voyage—on April 15, 1912.",
         "popularity": 78.03,
         "poster_path": "/9xjZS2rlVxm8SFx8kPC3aIGCOYQ.jpg",
         "release_date": "1997-11-18",
         "title": "Titanic",
         "video": false,
         "vote_average": 7.9,
         "vote_count": 19348
        },
        {
         "adult": false,
         "backdrop_path": "/e9XRikkyth0GtG8RkU3XNm0oMsA.jpg",
         "genre_ids": [
          28,
          12,
          53
         ],
         "id": 44918,
         "original_language": "en",
         "original_title": "Titanic II",
         "overview": "On the 100th anniversary of the original voyage, a modern luxury liner christened \"Titanic 2,\" follows the path of its namesake. But when a tsunami hurls an ice berg into the new ship's path, the passengers and crew must fight to avoid a similar fate.",
         "popularity": 25.165,
         "poster_path": "/3bhv6sf3Q8D3tbUvtPCCh3vdYyA.jpg",
         "release_date": "2010-08-07",
         "title": "Titanic II",
         "video": false,
         "vote_average": 4.8,
         "vote_count": 240
        },
        {
         "adult": false,
         "backdrop_path": "/3oShsRvAyZiQQ5lP2hszWN9Ri0b.jpg",
         "genre_ids": [
          28,
          18,
          10749
         ],
         "id": 16535,
         "original_language": "en",
         "original_title": "Titanic",
         "overview": "Unhappily married, Julia Sturges decides to go to America with her two children on the unsinkable Titanic. Her husband, Richard also arranges passage on the luxury liner so as to have custody of their two children. All this fades to insignificance once the ship hits an iceberg.",
         "popularity": 10.435,
         "poster_path": "/22Fh4UoxP6ejL2IFws76TJ8oYlj.jpg",
         "release_date": "1953-04-11",
         "title": "Titanic",
         "video": false,
         "vote_average": 6.4,
         "vote_count": 75
        },
        {
         "adult": false,
         "backdrop_path": "/82tRA7Vdf7TwdyJYILUh6FuY88L.jpg",
         "genre_ids": [
          99
         ],
         "id": 198901,
         "original_language": "en",
         "original_title": "Titanic: 100 Years On",
         "overview": "The \"unsinkable\" floating palace set sail from Southampton on 10th April 1912 on her maiden voyage to New York. An iceberg ended this monumental journey 5 days later. Only 705 of the passengers and crew survived. This program features an exclusive look at the Sea City Museum Titanic Exhibit in Southampton, interviews from both survivors and the cast of the blockbuster film.",
         "popularity": 15.223,
         "poster_path": "/uAaXfaJpKjmsA3F1KgowcRJPKPM.jpg",
         "release_date": "2012-06-01",
         "title": "Titanic: 100 Years On",
         "video": false,
         "vote_average": 6.8,
         "vote_count": 16
        },
        {
         "adult": false,
         "backdrop_path": "/edHgXEtPbyVIQ7xKb1cvJJqTVhA.jpg",
         "genre_ids": [
          28,
          18,
          36
         ],
         "id": 11021,
         "original_language": "de",
         "original_title": "Titanic",
         "overview": "This little-known German film retells the true story of the British ocean liner that met a tragic fate. Ernst Fritz Fürbringer plays the president of the White Star Line, who unwisely pressed the Titanic's captain (Otto Wernicke) to make the swiftest possible crossing to New York. Interestingly, director Herbert Selpin was arrested by the Gestapo during this film's production, and German censors banned the film for its scenes of panic and terror.",
         "popularity": 6.063,
         "poster_path": "/Al7oIXQ4dZAofBTZWm6OiXS3MEa.jpg",
         "release_date": "1943-11-10",
         "title": "Titanic",
         "video": false,
         "vote_average": 6.1,
         "vote_count": 39
        },
        {
         "adult": false,
         "backdrop_path": "/xSssW53a2s2euCdyI4aEpzyZfb1.jpg",
         "genre_ids": [
          878,
          28,
          12,
          35
         ],
         "id": 467839,
         "original_language": "en",
         "original_title": "Aliens vs. Titanic",
         "overview": "Offering only the finest amenities, the ‘TITAN 1C’ space-cruiser is considered the most luxurious star-liner ever built. Future spring-breakers on board are excited to be touring through space with some of the world’s elite. However, a sudden meteor storm smashes into the hull, and a deadly biological alien life form is let loose on the ship.  Seeking a suitable host, the retrovirus successfully merges with some the passengers, transforming them into seemingly invincible predators with the “touch of death”. As the ship is destroyed, the surviving passengers crash on a remote planet, and they learn that one of them is “infected”. They must quickly band together before it has a chance to slaughter them all.",
         "popularity": 5.356,
         "poster_path": "/blREOd05hyvbiA3Qc6BqCJ7unvC.jpg",
         "release_date": "2017-09-18",
         "title": "Aliens vs. Titanic",
         "video": false,
         "vote_average": 5.1,
         "vote_count": 10
        },
        {
         "adult": false,
         "backdrop_path": "/sdtfwZulErbQ7y9RVbaOuWVouD6.jpg",
         "genre_ids": [
          36,
          18,
          53
         ],
         "id": 86938,
         "original_language": "en",
         "original_title": "S.O.S. Titanic",
         "overview": "The Titanic disaster is depicted as seen through the eyes of one couple in each of the three classes on board.",
         "popularity": 4.094,
         "poster_path": "/7OWrNGGHfLzul6Cd3z3z3kYAdHv.jpg",
         "release_date": "1979-09-23",
         "title": "S.O.S. Titanic",
         "video": false,
         "vote_average": 6.2,
         "vote_count": 24
        },
        {
         "adult": false,
         "backdrop_path": "/q3b8Vi2W6j72aXKggiVoDnEyDgU.jpg",
         "genre_ids": [
          12
         ],
         "id": 24575,
         "original_language": "en",
         "original_title": "Raise the Titanic",
         "overview": "To obtain a supply of a rare mineral, a ship raising operation is conducted for the only known source, the Titanic.",
         "popularity": 7.164,
         "poster_path": "/beYNLj44FOdV47tomXuJyPkvCKl.jpg",
         "release_date": "1980-08-01",
         "title": "Raise the Titanic",
         "video": false,
         "vote_average": 5.6,
         "vote_count": 54
        },
        {
         "adult": false,
         "backdrop_path": "/hDfaa3Nj3K3SkXBr8eALYfPT5pF.jpg",
         "genre_ids": [
          99
         ],
         "id": 428950,
         "original_language": "en",
         "original_title": "Drain the Titanic",
         "overview": "Computer-generated imagery and other visualization techniques reveal how it would look if all the water was removed from RMS Titanic's final resting place.",
         "popularity": 2.882,
         "poster_path": "/68Fppsnpc3OmQK8kIustffrxHbq.jpg",
         "release_date": "2016-05-05",
         "title": "Drain the Titanic",
         "video": false,
         "vote_average": 7.4,
         "vote_count": 8
        },
        {
         "adult": false,
         "backdrop_path": null,
         "genre_ids": [
          35,
          27
         ],
         "id": 4240,
         "original_language": "en",
         "original_title": "Titanic 2000",
         "overview": "The luxury liner Titanic 2000 has set sail on its maiden voyage, and one of the passengers is the vampire Vladamina. Vladamina is searching for a woman she can turn into a vampire queen, and frustrated rock groupie Shari looks to be a perfect target. As various people get seduced and/or killed as the liner continues on its doomed voyage, Shari must chose between eternity as a living dead sex slave or a frigid grave at the bottom of the ocean.",
         "popularity": 4.786,
         "poster_path": "/w8KzGphSGIDcUhHmdRbqxYXI8ke.jpg",
         "release_date": "1999-01-01",
         "title": "Titanic 2000",
         "video": false,
         "vote_average": 3.4,
         "vote_count": 8
        },
        {
         "adult": false,
         "backdrop_path": "/4Sddw1BFQFHOIQZ3DY7QS0mGnVe.jpg",
         "genre_ids": [
          16,
          10751
         ],
         "id": 71235,
         "original_language": "it",
         "original_title": "Titanic: La leggenda continua",
         "overview": "An animated retelling of the worst passenger ship disaster in history. In this version, love blossoms between the upper-class Sir William and the blue-collar Angelica, who is hoping to find romance in America. At the same time, there are also a number of animal passengers, including talking dogs, cats and mice, who are also looking forward to arriving in the New World.",
         "popularity": 5.152,
         "poster_path": "/s1PHRSlos2hIFrtA8Ze0JybJTGb.jpg",
         "release_date": "2000-09-15",
         "title": "Titanic: The Legend Goes On...",
         "video": false,
         "vote_average": 2.2,
         "vote_count": 43
        },
        {
         "adult": false,
         "backdrop_path": null,
         "genre_ids": [
          99,
          36
         ],
         "id": 530108,
         "original_language": "en",
         "original_title": "The Unsinkable Titanic",
         "overview": "On April 10, 1912, the RMS Titanic embarked on its maiden voyage, sailing from Southampton, England, to New York City. One of the largest and most luxurious passenger liners at the time, the Titanic was also equipped with watertight compartments, which led many to consider the ship unsinkable; an anonymous deckhand famously claimed that “God himself could not sink this ship.” On April 14, however, the ship struck an iceberg, and early the next day it sank. Some 1,500 people perished.",
         "popularity": 2.966,
         "poster_path": "/m3py1JoOPM3s3RTRv965tMC8Fqy.jpg",
         "release_date": "2008-11-03",
         "title": "The Unsinkable Titanic",
         "video": false,
         "vote_average": 9,
         "vote_count": 1
        },
        {
         "adult": false,
         "backdrop_path": null,
         "genre_ids": [
          16,
          10751
         ],
         "id": 44310,
         "original_language": "it",
         "original_title": "La leggenda del Titanic",
         "overview": "Old Grandpa mouse tells to his grandchildren the \"real\" story of the Titanic disaster, including evil sharks, a giant octopus, and an evil whaling scheme.",
         "popularity": 3.229,
         "poster_path": "/72ITKkdanAMTeXczHPSPTT2lvf6.jpg",
         "release_date": "1999-01-01",
         "title": "The Legend of the Titanic",
         "video": false,
         "vote_average": 3.2,
         "vote_count": 30
        },
        {
         "adult": false,
         "backdrop_path": "/djFWCethTNYz5WPqIso6IVXTtFU.jpg",
         "genre_ids": [
          10749,
          18
         ],
         "id": 115872,
         "original_language": "fr",
         "original_title": "La femme de chambre du Titanic",
         "overview": "Horty, a French foundry worker, wins a contest and is sent to see the sailing of the Titanic. In England, Marie, saying she is a chambermaid on the Titanic and cannot get a room, asks to share his room. They do, chastely; when he awakens, she is gone, but he sees her at the sailing and gets a photo of her. When he returns home, he suspects that his wife Zoe has been sleeping with Simeon, the foundry owner. Horty goes to the bar, where his friends get him drunk and he starts telling an erotic fantasy of what happened with him and Marie, drawing a larger audience each night.",
         "popularity": 2.566,
         "poster_path": "/1piPVRdPrkIwlNGsrtv3GVrPaqr.jpg",
         "release_date": "1997-10-10",
         "title": "The Chambermaid on the Titanic",
         "video": false,
         "vote_average": 6.1,
         "vote_count": 16
        },
        {
         "adult": false,
         "backdrop_path": null,
         "genre_ids": [
          35
         ],
         "id": 428615,
         "original_language": "ro",
         "original_title": "Titanic vals",
         "overview": "Based on a play by Tudor Mușatescu, Titanic Vals is the essence of Romanian genius in comedy, with amazing performances and the beautiful absurd of the quotidian.",
         "popularity": 1.081,
         "poster_path": "/ezr00Sm1H6Qlq7hRrUZQ9IP7PF3.jpg",
         "release_date": "1964-12-02",
         "title": "Titanic Waltz",
         "video": true,
         "vote_average": 7,
         "vote_count": 4
        },
        {
         "adult": false,
         "backdrop_path": null,
         "genre_ids": [
          99
         ],
         "id": 421657,
         "original_language": "en",
         "original_title": "Inside the Titanic",
         "overview": "An ambitious factual drama that reveals moment by moment exactly how the Titanic sank, telling the untold stories of the engineers and stokers who battled the icy water.",
         "popularity": 2.384,
         "poster_path": "/jDHeorRWLuzyXSUGVX47OSdWvVM.jpg",
         "release_date": "2012-03-22",
         "title": "Inside the Titanic",
         "video": false,
         "vote_average": 7.5,
         "vote_count": 2
        },
        {
         "adult": false,
         "backdrop_path": null,
         "genre_ids": [],
         "id": 455679,
         "original_language": "pt",
         "original_title": "Titanic",
         "overview": "",
         "popularity": 1.236,
         "poster_path": null,
         "title": "Titanic",
         "video": false,
         "vote_average": 10,
         "vote_count": 1
        },
        {
         "adult": false,
         "backdrop_path": null,
         "genre_ids": [
          10770,
          99
         ],
         "id": 463397,
         "original_language": "en",
         "original_title": "Nazi Titanic",
         "overview": "During a bizarre chapter of WWII, Nazi propaganda minister Joseph Goebbels decided to make a movie based on the sinking of the Titanic. This epic film was so large in scale that the Nazis were forced to divert men, material and ships from the war effort in order to complete it. Titanic was filmed aboard cruise ship SS Cap Arcona in the Baltic Sea. The movie’s director Herbert Selpin was arrested by the Gestapo over comments he made about the ship’s crew and he was questioned by Goebbels. Selpin was found dead the next day in his cell. The Gestapo’s verdict was suicide. Titanic never received the impressive premiere that Goebbels intended, being first shown in Nazi-occupied Paris in 1943. We reveal this little known but fascinating story by looking at the making of the film, as well as the fate of the German ship Cap Arcona.",
         "popularity": 1.546,
         "poster_path": "/pmCnVAP0dQumyDMgCnzEgnpMt1g.jpg",
         "release_date": "2012-04-14",
         "title": "Nazi Titanic",
         "video": false,
         "vote_average": 7,
         "vote_count": 3
        },
        {
         "adult": false,
         "backdrop_path": "/mEoU71g0SjTDEiMTyRj1bV2EfIp.jpg",
         "genre_ids": [
          99
         ],
         "id": 213362,
         "original_language": "en",
         "original_title": "Reflections on Titanic",
         "overview": "An enthralling and fast-paced four-part documentary feature that covers the making of one of the last major Hollywood epics; Titanic. Cast and crew speak on setting the sinking of the ship against a classic romance. The feature also examines casting and the young couple headlining the film, DiCaprio's and Winslet's on-set friendship and their differing acting styles, the expansive sets and filming locations, the authenticity of the recreated ship, James Cameron's work and dedication, and budgeting. And many more aspects of the film are overviewed.",
         "popularity": 3.308,
         "poster_path": null,
         "release_date": "2012-09-10",
         "title": "Reflections on Titanic",
         "video": false,
         "vote_average": 7.3,
         "vote_count": 18
        },
        {
         "adult": false,
         "backdrop_path": null,
         "genre_ids": [],
         "id": 760524,
         "original_language": "en",
         "original_title": "Titanic",
         "overview": "\"Titanic\" is a Punjabi feature film. It is family movie. \"Titanic\" is based on a young boy's life whose dreams are so high. He wants to join Indian Navy. Unfortunately his life completely changed due to week financial conditions at home. He starts his work at low level driving of Autoriksha. He works so hard and he faces many obstacles in this work. At the end he accepted that his vehicle is submarine for him.",
         "popularity": 1.625,
         "poster_path": null,
         "release_date": "2018-12-21",
         "title": "Titanic",
         "video": false,
         "vote_average": 0,
         "vote_count": 0
        }
       ],
       "total_pages": 7,
       "total_results": 135
      },
      "text/plain": [
       "<IPython.core.display.JSON object>"
      ]
     },
     "execution_count": 4,
     "metadata": {
      "application/json": {
       "expanded": false,
       "root": "root"
      }
     },
     "output_type": "execute_result"
    }
   ],
   "source": [
    "base = \"https://api.themoviedb.org/3\"\n",
    "url = \"/search/movie\"\n",
    "query = 'titanic'\n",
    "api_key = configs.API[\"key\"]\n",
    "res = requests.get(base+url,params={\"query\":query,\"api_key\":api_key})\n",
    "JSON(res.json())"
   ]
  },
  {
   "cell_type": "code",
   "execution_count": 8,
   "id": "776907a6-74d2-4592-8b03-e89794b4ded7",
   "metadata": {},
   "outputs": [
    {
     "data": {
      "application/json": {
       "adult": false,
       "backdrop_path": "/nzMmMevQsL6HvHfi4rwNT0xLNuu.jpg",
       "belongs_to_collection": null,
       "budget": 55000000,
       "genres": [
        {
         "id": 18,
         "name": "Drama"
        }
       ],
       "homepage": "http://www.sonypictures.com/homevideo/thepursuitofhappyness/",
       "id": 1402,
       "imdb_id": "tt0454921",
       "original_language": "en",
       "original_title": "The Pursuit of Happyness",
       "overview": "A struggling salesman takes custody of his son as he's poised to begin a life-changing professional career.",
       "popularity": 20.681,
       "poster_path": "/lBYOKAMcxIvuk9s9hMuecB9dPBV.jpg",
       "production_companies": [
        {
         "id": 1423,
         "logo_path": "/9KSoL1oEQaBSPLwEhoZZRoxTzyx.png",
         "name": "Escape Artists",
         "origin_country": "US"
        },
        {
         "id": 7295,
         "logo_path": "/5MYE96QiE5a5oFhXxFb4y8ILSpw.png",
         "name": "Relativity Media",
         "origin_country": "US"
        },
        {
         "id": 5,
         "logo_path": "/71BqEFAF4V3qjjMPCpLuyJFB9A.png",
         "name": "Columbia Pictures",
         "origin_country": "US"
        },
        {
         "id": 907,
         "logo_path": "/ca5SWI5uvU985f8Kbb4xc8AmVWH.png",
         "name": "Overbrook Entertainment",
         "origin_country": "US"
        }
       ],
       "production_countries": [
        {
         "iso_3166_1": "US",
         "name": "United States of America"
        }
       ],
       "release_date": "2006-12-14",
       "revenue": 307077295,
       "runtime": 117,
       "spoken_languages": [
        {
         "english_name": "English",
         "iso_639_1": "en",
         "name": "English"
        },
        {
         "english_name": "Cantonese",
         "iso_639_1": "cn",
         "name": "广州话 / 廣州話"
        }
       ],
       "status": "Released",
       "tagline": "",
       "title": "The Pursuit of Happyness",
       "video": false,
       "vote_average": 7.9,
       "vote_count": 7501
      },
      "text/plain": [
       "<IPython.core.display.JSON object>"
      ]
     },
     "execution_count": 8,
     "metadata": {
      "application/json": {
       "expanded": false,
       "root": "root"
      }
     },
     "output_type": "execute_result"
    }
   ],
   "source": [
    "base = \"https://api.themoviedb.org/3\"\n",
    "url = \"/movie/1402\"\n",
    "query = 'The Pursuit of Happyness'\n",
    "api_key = configs.API[\"key\"]\n",
    "res = requests.get(base+url,params={\"api_key\":api_key})\n",
    "JSON(res.json())"
   ]
  },
  {
   "cell_type": "code",
   "execution_count": null,
   "id": "7c1dd2a6-3773-4717-8939-34985be2eaf4",
   "metadata": {},
   "outputs": [],
   "source": [
    "base = \"https://api.themoviedb.org/3\"\n",
    "url = \"/search/person\"\n",
    "query = 'Emily blunt'\n",
    "api_key = configs.API[\"key\"]\n",
    "res = requests.get(base+url,params={\"api_key\":api_key,\"query\"=query})\n",
    "JSON(res.json())"
   ]
  }
 ],
 "metadata": {
  "kernelspec": {
   "display_name": "bootcamp",
   "language": "python",
   "name": "bootcamp"
  },
  "language_info": {
   "codemirror_mode": {
    "name": "ipython",
    "version": 3
   },
   "file_extension": ".py",
   "mimetype": "text/x-python",
   "name": "python",
   "nbconvert_exporter": "python",
   "pygments_lexer": "ipython3",
   "version": "3.9.5"
  }
 },
 "nbformat": 4,
 "nbformat_minor": 5
}
